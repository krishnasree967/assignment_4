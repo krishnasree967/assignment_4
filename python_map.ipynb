{
 "cells": [
  {
   "cell_type": "code",
   "execution_count": null,
   "metadata": {},
   "outputs": [],
   "source": [
    "nums = (1, 2, 3, 4, 5, 6, 7) \n",
    "result = map(lambda x: x * 3, nums)\n",
    "print(\"\\nTriple of  list numbers:\")\n",
    "print(list(result))"
   ]
  }
 ],
 "metadata": {
  "language_info": {
   "name": "python"
  }
 },
 "nbformat": 4,
 "nbformat_minor": 2
}
