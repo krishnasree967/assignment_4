{
 "cells": [
  {
   "cell_type": "code",
   "execution_count": null,
   "metadata": {},
   "outputs": [],
   "source": [
    "sample_list=[4,5,2,9]\n",
    "squared_list=list(map(lambda x: x**2,sample_list))\n",
    "print(squared_list)"
   ]
  }
 ],
 "metadata": {
  "language_info": {
   "name": "python"
  }
 },
 "nbformat": 4,
 "nbformat_minor": 2
}
